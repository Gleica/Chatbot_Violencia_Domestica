{
  "nbformat": 4,
  "nbformat_minor": 0,
  "metadata": {
    "colab": {
      "provenance": [],
      "authorship_tag": "ABX9TyOOToVgmUIgXcoUSDRgQweu",
      "include_colab_link": true
    },
    "kernelspec": {
      "name": "python3",
      "display_name": "Python 3"
    },
    "language_info": {
      "name": "python"
    }
  },
  "cells": [
    {
      "cell_type": "markdown",
      "metadata": {
        "id": "view-in-github",
        "colab_type": "text"
      },
      "source": [
        "<a href=\"https://colab.research.google.com/github/Gleica/Chatbot_Violencia_Domestica/blob/main/Chabot_Viol%C3%AAncia_Dom%C3%A9stica.ipynb\" target=\"_parent\"><img src=\"https://colab.research.google.com/assets/colab-badge.svg\" alt=\"Open In Colab\"/></a>"
      ]
    },
    {
      "cell_type": "markdown",
      "source": [
        "**Instalando o SDK do Google**"
      ],
      "metadata": {
        "id": "xzZwc1KymvYd"
      }
    },
    {
      "cell_type": "code",
      "execution_count": 2,
      "metadata": {
        "id": "WCz-8QS7ghFd"
      },
      "outputs": [],
      "source": [
        "!pip install -q -U google-generativeai"
      ]
    },
    {
      "cell_type": "code",
      "source": [
        "# Import the Python SDK\n",
        "import google.generativeai as genai\n",
        "from google.colab import userdata\n",
        "api_key = userdata.get ('Secret_key')\n",
        "genai.configure(api_key=api_key)"
      ],
      "metadata": {
        "id": "0QCTIUfrj7_x"
      },
      "execution_count": 3,
      "outputs": []
    },
    {
      "cell_type": "markdown",
      "source": [
        "**Listar os modelos disponíveis**"
      ],
      "metadata": {
        "id": "LqovRSdskDoF"
      }
    },
    {
      "cell_type": "code",
      "source": [
        "for m in genai.list_models():\n",
        "  if 'generateContent' in m.supported_generation_methods:\n",
        "    print(m.name)"
      ],
      "metadata": {
        "colab": {
          "base_uri": "https://localhost:8080/",
          "height": 139
        },
        "id": "1ZmmGboGkGQn",
        "outputId": "93ed9b0d-fa13-408b-d4a0-b3d006dc95ea"
      },
      "execution_count": 4,
      "outputs": [
        {
          "output_type": "stream",
          "name": "stdout",
          "text": [
            "models/gemini-1.0-pro\n",
            "models/gemini-1.0-pro-001\n",
            "models/gemini-1.0-pro-latest\n",
            "models/gemini-1.0-pro-vision-latest\n",
            "models/gemini-1.5-pro-latest\n",
            "models/gemini-pro\n",
            "models/gemini-pro-vision\n"
          ]
        }
      ]
    },
    {
      "cell_type": "markdown",
      "source": [
        "**Inserir configurações do Google AI**"
      ],
      "metadata": {
        "id": "7DufFlRijnp4"
      }
    },
    {
      "cell_type": "code",
      "source": [
        "generation_config = {\n",
        "    \"candidate_count\": 1,\n",
        "    \"temperature\" : 0.5,\n",
        "    \"top_p\" : 0.5,\n",
        "}"
      ],
      "metadata": {
        "id": "hukUdTD5lWUb"
      },
      "execution_count": 5,
      "outputs": []
    },
    {
      "cell_type": "markdown",
      "source": [
        "**Inserir configurações de segurança do conteúdo**"
      ],
      "metadata": {
        "id": "mpTX1-aonIJM"
      }
    },
    {
      "cell_type": "code",
      "source": [
        "safety_settings = {\n",
        "    \"HARASSMENT\" : \"BLOCK_NONE\",\n",
        "    \"HATE\" : \"BLOCK_NONE\",\n",
        "    \"SEXUAL\" : \"BLOCK_NONE\",\n",
        "    \"DANGEROUS\" : \"BLOCK_NONE\",\n",
        "}"
      ],
      "metadata": {
        "id": "zpiozraSl1U9"
      },
      "execution_count": 6,
      "outputs": []
    },
    {
      "cell_type": "markdown",
      "source": [
        "**Inicializando o modelo escolhido (gemini-1.5-pro-latest)**"
      ],
      "metadata": {
        "id": "leoKOJT6nMjA"
      }
    },
    {
      "cell_type": "code",
      "source": [
        "model = genai.GenerativeModel(model_name=\"gemini-1.5-pro-latest\",\n",
        "                              generation_config=generation_config,\n",
        "                              safety_settings=safety_settings)"
      ],
      "metadata": {
        "id": "iPrxf9qWnR_e"
      },
      "execution_count": 9,
      "outputs": []
    },
    {
      "cell_type": "markdown",
      "source": [
        "**Criar uma responsive**"
      ],
      "metadata": {
        "id": "taqCD6F1oABS"
      }
    },
    {
      "cell_type": "code",
      "source": [
        "response = model.generate_content(\"Como podemos ajudar pessoas vítimas de violência doméstica?\")\n",
        "print(response.text)"
      ],
      "metadata": {
        "colab": {
          "base_uri": "https://localhost:8080/",
          "height": 558
        },
        "id": "GV5qPN5qoBvt",
        "outputId": "65d92040-d2d0-4eff-e571-da6b326dc3fb"
      },
      "execution_count": 17,
      "outputs": [
        {
          "output_type": "stream",
          "name": "stdout",
          "text": [
            "A violência doméstica é um problema grave e complexo que exige uma abordagem multifacetada. Aqui estão algumas maneiras de ajudar as vítimas:\n",
            "\n",
            "**Oferecendo Suporte Direto:**\n",
            "\n",
            "* **Ouça e acredite:** Se alguém confia em você sobre abuso, ouça sem julgamento e deixe claro que você acredita nela. A validação é crucial para vítimas que muitas vezes se sentem isoladas e desacreditadas.\n",
            "* **Ofereça apoio prático:** Ajude com tarefas diárias, como cuidar de crianças, preparar refeições ou oferecer transporte para consultas médicas ou legais.\n",
            "* **Ajude a criar um plano de segurança:** Isso pode incluir identificar rotas de fuga, criar um código secreto para pedir ajuda, guardar documentos importantes e dinheiro em um local seguro.\n",
            "* **Incentive a busca de ajuda profissional:** Conecte a vítima com recursos como linhas diretas de violência doméstica, abrigos, grupos de apoio, advogados e terapeutas.\n",
            "\n",
            "**Aumentando a Conscientização e Prevenção:**\n",
            "\n",
            "* **Eduque-se sobre violência doméstica:** Aprenda sobre os sinais de abuso, os ciclos de violência e os recursos disponíveis para vítimas.\n",
            "* **Desafie as normas sociais que perpetuam a violência:** Fale contra piadas misóginas, sexistas ou que normalizam a violência contra as mulheres.\n",
            "* **Apoie organizações que combatem a violência doméstica:** Faça doações, seja voluntário ou participe de eventos de conscientização.\n",
            "* **Ensine as crianças sobre relacionamentos saudáveis e consentimento:** Isso pode ajudar a prevenir a violência no futuro.\n",
            "\n",
            "**É importante lembrar:**\n",
            "\n",
            "* **Nunca force uma vítima a deixar o relacionamento:** A decisão de sair deve ser dela. Forçá-la pode aumentar o risco de violência.\n",
            "* **Priorize a segurança da vítima:** Não confronte o agressor diretamente, pois isso pode colocar a vítima em perigo.\n",
            "* **Seja paciente e compreensivo:** A recuperação da violência doméstica é um processo longo e difícil.\n",
            "\n",
            "**Recursos:**\n",
            "\n",
            "* **Brasil:** Ligue 180 (Central de Atendimento à Mulher)\n",
            "* **Portugal:** APAV - Associação Portuguesa de Apoio à Vítima (116 006)\n",
            "* **Outros países:** Procure por linhas diretas de violência doméstica e organizações de apoio em seu país.\n",
            "\n",
            "A violência doméstica é um problema social que exige a ação de todos. Ao oferecer suporte às vítimas, aumentar a conscientização e desafiar as normas sociais que perpetuam a violência, podemos trabalhar para criar um mundo mais seguro e justo para todos. \n",
            "\n"
          ]
        }
      ]
    },
    {
      "cell_type": "markdown",
      "source": [
        "**Criar/iniciar um chat gravando histórico**"
      ],
      "metadata": {
        "id": "cIwI8xylowtP"
      }
    },
    {
      "cell_type": "code",
      "source": [
        "chat = model.start_chat(history=[])"
      ],
      "metadata": {
        "id": "-QA67qCuoUeB"
      },
      "execution_count": 18,
      "outputs": []
    },
    {
      "cell_type": "markdown",
      "source": [
        "**Inserir condições sobre o que o chat vai fazer**"
      ],
      "metadata": {
        "id": "qnM-ibqEo1b3"
      }
    },
    {
      "cell_type": "code",
      "source": [
        "prompt = input(\"Informe sua dúvida sobre violência doméstica aqui : \")\n",
        "\n",
        "while prompt != \"fim\":\n",
        "  response = chat.send_message(prompt)\n",
        "  print(\"Resposta: \", response.text, \"\\n\")\n",
        "  prompt = input(\"Esperando prompt: \")"
      ],
      "metadata": {
        "colab": {
          "base_uri": "https://localhost:8080/",
          "height": 1000
        },
        "id": "Cs97fWMRopOf",
        "outputId": "9f03b3b2-a5ad-45d4-db5c-00ea191f6ca7"
      },
      "execution_count": 25,
      "outputs": [
        {
          "name": "stdout",
          "output_type": "stream",
          "text": [
            "Informe sua dúvida sobre violência doméstica aqui : Quais são os canais de denúncia para violência domestica? Eles são seguros? Quais informações são necessárias para formalizar uma denúncia?\n",
            "Resposta:  É muito importante saber como denunciar a violência doméstica e garantir a segurança das vítimas. Aqui estão as informações sobre os canais de denúncia, sua segurança e os dados necessários para formalizar a denúncia:\n",
            "\n",
            "**Canais de Denúncia no Brasil:**\n",
            "\n",
            "* **Ligue 180 (Central de Atendimento à Mulher):**  Este é um serviço gratuito e confidencial, disponível 24 horas por dia, todos os dias da semana. Você pode ligar de qualquer lugar do Brasil para:\n",
            "    * Denunciar casos de violência doméstica.\n",
            "    * Receber orientação sobre seus direitos e como proceder em casos de violência.\n",
            "    * Obter informações sobre serviços de apoio à mulher disponíveis em sua região.\n",
            "    * Receber apoio emocional e psicológico.\n",
            "* **Delegacias da Mulher:** Procure a delegacia especializada mais próxima de você. Essas delegacias contam com profissionais preparados para atender vítimas de violência doméstica com sensibilidade e respeito.\n",
            "* **Polícia Militar (190):** Em casos de emergência, quando a vítima está em perigo imediato, ligue 190 para solicitar ajuda policial urgente.\n",
            "* **Aplicativo SOS Mulher:** Disponível para Android e iOS, o aplicativo permite:\n",
            "    * Realizar denúncias.\n",
            "    * Pedir ajuda.\n",
            "    * Encontrar a delegacia mais próxima.\n",
            "\n",
            "**Segurança dos Canais de Denúncia:**\n",
            "\n",
            "Sim, os canais de denúncia mencionados são considerados seguros e confiáveis no Brasil. \n",
            "\n",
            "* **Ligue 180:**  Garante o anonimato da vítima e não repassa informações para o agressor. As atendentes são treinadas para oferecer apoio e orientação de forma sigilosa e acolhedora.\n",
            "* **Delegacias da Mulher:** A identidade da vítima é protegida durante todo o processo.\n",
            "* **Aplicativo SOS Mulher:** Desenvolvido pelo governo federal, possui mecanismos de segurança para proteger os dados da vítima. As denúncias são encaminhadas diretamente para as autoridades competentes.\n",
            "\n",
            "**É importante lembrar que:**\n",
            "\n",
            "* A segurança total depende também da postura da vítima. É fundamental tomar precauções para proteger sua privacidade, como evitar usar o celular do agressor para fazer a denúncia, apagar o histórico de navegação e ligações, e buscar apoio em locais seguros.\n",
            "\n",
            "**Informações Necessárias para Formalizar a Denúncia:**\n",
            "\n",
            "Quanto mais informações você puder fornecer, melhor. As informações essenciais incluem:\n",
            "\n",
            "* **Dados da vítima:** Nome completo, endereço completo, data de nascimento.\n",
            "* **Dados do agressor:** Nome completo, endereço (se souber), descrição física (idade aproximada, altura, cor da pele, características marcantes), relação com a vítima.\n",
            "* **Descrição da violência:** Tipo de violência sofrida (física, psicológica, sexual, patrimonial, moral), data, hora e local da ocorrência, frequência dos episódios de violência.\n",
            "* **Testemunhas:** Nome completo e contato, se houver.\n",
            "* **Provas:** Fotos, vídeos, áudios, mensagens, boletins de ocorrência anteriores, se houver.\n",
            "\n",
            "**Informações adicionais que podem ser úteis:**\n",
            "\n",
            "* Se a vítima possui medida protetiva.\n",
            "* Se o agressor possui antecedentes criminais.\n",
            "* Se o agressor está sob efeito de álcool ou drogas.\n",
            "* Se há crianças ou outras pessoas em situação de risco.\n",
            "\n",
            "**Lembre-se:**\n",
            "\n",
            "* Você pode denunciar mesmo sem saber todas as informações. As autoridades podem ajudar a coletar mais dados durante a investigação.\n",
            "* A denúncia pode ser feita de forma anônima. No entanto, fornecer seus dados pode ajudar na investigação e garantir que você receba suporte e acompanhamento.\n",
            "* É importante registrar um boletim de ocorrência na delegacia. Esse documento é fundamental para dar andamento ao processo legal e garantir a proteção da vítima.\n",
            "\n",
            "Denunciar a violência doméstica é fundamental para proteger a vítima e garantir que o agressor seja responsabilizado por seus atos. Não se cale, busque ajuda! \n",
            " \n",
            "\n",
            "Esperando prompt: fim\n"
          ]
        }
      ]
    },
    {
      "cell_type": "markdown",
      "source": [
        "**Histórico do que foi feito no chat**"
      ],
      "metadata": {
        "id": "bzHHylsurOm4"
      }
    },
    {
      "cell_type": "code",
      "source": [
        "chat.history"
      ],
      "metadata": {
        "colab": {
          "base_uri": "https://localhost:8080/"
        },
        "id": "Uafd1Ca6q8lY",
        "outputId": "8d8df353-bb43-43b0-a64c-391f3e9e8035"
      },
      "execution_count": 26,
      "outputs": [
        {
          "output_type": "execute_result",
          "data": {
            "text/plain": [
              "[parts {\n",
              "   text: \"Como podemos ajudar pessoas v\\303\\255timas de viol\\303\\252ncia dom\\303\\251stica?\"\n",
              " }\n",
              " role: \"user\",\n",
              " parts {\n",
              "   text: \"A viol\\303\\252ncia dom\\303\\251stica \\303\\251 um problema grave e complexo que exige uma abordagem multifacetada. Aqui est\\303\\243o algumas maneiras de ajudar as v\\303\\255timas:\\n\\n**Oferecendo Suporte:**\\n\\n* **Acredite nelas:** A primeira e mais importante coisa \\303\\251 acreditar na v\\303\\255tima. Muitas vezes, as v\\303\\255timas t\\303\\252m medo de falar por vergonha, medo de repres\\303\\241lias ou por n\\303\\243o serem acreditadas.\\n* **Ou\\303\\247a sem julgar:** D\\303\\252 espa\\303\\247o para a v\\303\\255tima se expressar sem interrup\\303\\247\\303\\265es ou julgamentos. Deixe-a saber que voc\\303\\252 est\\303\\241 ali para ouvi-la e apoi\\303\\241-la.\\n* **Ofere\\303\\247a ajuda pr\\303\\241tica:** Ajude com tarefas do dia a dia, como cuidar de crian\\303\\247as, cozinhar ou limpar a casa. Isso pode aliviar o estresse da v\\303\\255tima e dar-lhe tempo para se concentrar em sua seguran\\303\\247a e bem-estar.\\n* **Ajude a criar um plano de seguran\\303\\247a:** Isso pode incluir identificar rotas de fuga, ter uma mala pronta com documentos importantes e n\\303\\272meros de telefone de emerg\\303\\252ncia, e ter um lugar seguro para onde ir em caso de necessidade.\\n* **Incentive a procurar ajuda profissional:** Existem diversas organiza\\303\\247\\303\\265es e profissionais que podem oferecer apoio especializado, como psic\\303\\263logos, assistentes sociais, advogados e grupos de apoio.\\n\\n**Tomando A\\303\\247\\303\\243o:**\\n\\n* **Denuncie a viol\\303\\252ncia:** Se voc\\303\\252 suspeitar ou souber de um caso de viol\\303\\252ncia dom\\303\\251stica, denuncie \\303\\240s autoridades competentes. Isso pode ser feito anonimamente, se necess\\303\\241rio.\\n* **Apoie organiza\\303\\247\\303\\265es que combatem a viol\\303\\252ncia dom\\303\\251stica:** Existem diversas ONGs que trabalham para prevenir a viol\\303\\252ncia, oferecer apoio \\303\\240s v\\303\\255timas e promover a mudan\\303\\247a social. Voc\\303\\252 pode ajudar doando, sendo volunt\\303\\241rio ou divulgando o trabalho dessas organiza\\303\\247\\303\\265es.\\n* **Eduque-se sobre o tema:** Aprenda sobre os diferentes tipos de viol\\303\\252ncia dom\\303\\251stica, os sinais de alerta e como ajudar as v\\303\\255timas. Compartilhe essa informa\\303\\247\\303\\243o com outras pessoas para aumentar a conscientiza\\303\\247\\303\\243o sobre o problema.\\n* **Combata a cultura do sil\\303\\252ncio:** A viol\\303\\252ncia dom\\303\\251stica prospera no sil\\303\\252ncio. Fale abertamente sobre o assunto, desafie as normas sociais que perpetuam a viol\\303\\252ncia e incentive as v\\303\\255timas a buscarem ajuda.\\n\\n**Lembre-se:**\\n\\n* **A seguran\\303\\247a da v\\303\\255tima \\303\\251 a prioridade.** Nunca a coloque em risco ao tentar intervir diretamente na situa\\303\\247\\303\\243o.\\n* **A viol\\303\\252ncia dom\\303\\251stica \\303\\251 um crime.** N\\303\\243o hesite em denunciar e buscar ajuda profissional.\\n* **Voc\\303\\252 n\\303\\243o est\\303\\241 sozinho.** Existem recursos e pessoas dispostas a ajudar.\\n\\n**Recursos:**\\n\\n* **Brasil:** Ligue 180 (Central de Atendimento \\303\\240 Mulher)\\n* **Portugal:** APAV - Associa\\303\\247\\303\\243o Portuguesa de Apoio \\303\\240 V\\303\\255tima (116 006)\\n\\nJuntos, podemos fazer a diferen\\303\\247a na vida das v\\303\\255timas de viol\\303\\252ncia dom\\303\\251stica. \\n\"\n",
              " }\n",
              " role: \"model\",\n",
              " parts {\n",
              "   text: \"Qual \\303\\251 o canal de den\\303\\272ncia?\"\n",
              " }\n",
              " role: \"user\",\n",
              " parts {\n",
              "   text: \"Voc\\303\\252 est\\303\\241 perguntando sobre o canal de den\\303\\272ncia para viol\\303\\252ncia dom\\303\\251stica? \\n\\n**No Brasil, o canal de den\\303\\272ncia para viol\\303\\252ncia dom\\303\\251stica \\303\\251 o n\\303\\272mero 180.** \\n\\nA Central de Atendimento \\303\\240 Mulher \\342\\200\\223 Ligue 180 \\303\\251 um servi\\303\\247o gratuito e confidencial que funciona 24 horas por dia, todos os dias da semana. Voc\\303\\252 pode ligar de qualquer lugar do pa\\303\\255s, de forma an\\303\\264nima, para:\\n\\n* **Denunciar casos de viol\\303\\252ncia dom\\303\\251stica;**\\n* **Receber orienta\\303\\247\\303\\243o sobre seus direitos e sobre como proceder em casos de viol\\303\\252ncia;**\\n* **Obter informa\\303\\247\\303\\265es sobre os servi\\303\\247os de apoio \\303\\240 mulher dispon\\303\\255veis em sua regi\\303\\243o;**\\n* **Receber apoio emocional e psicol\\303\\263gico.**\\n\\n**Outros canais de den\\303\\272ncia:**\\n\\n* **Pol\\303\\255cia Militar:** 190 (em caso de emerg\\303\\252ncia)\\n* **Delegacias da Mulher:** procure a delegacia mais pr\\303\\263xima de voc\\303\\252.\\n* **Aplicativo SOS Mulher:** dispon\\303\\255vel para Android e iOS, permite realizar den\\303\\272ncias, pedir ajuda e encontrar a delegacia mais pr\\303\\263xima.\\n\\n**Lembre-se:** a viol\\303\\252ncia dom\\303\\251stica \\303\\251 um crime e deve ser denunciada. N\\303\\243o se cale, busque ajuda! \\n\"\n",
              " }\n",
              " role: \"model\",\n",
              " parts {\n",
              "   text: \"Esses canais de den\\303\\272ncia s\\303\\243o seguros?\"\n",
              " }\n",
              " role: \"user\",\n",
              " parts {\n",
              "   text: \"Sim, os canais de den\\303\\272ncia que mencionei s\\303\\243o considerados seguros e confi\\303\\241veis no Brasil. \\n\\n**Seguran\\303\\247a e Confidencialidade:**\\n\\n* **Ligue 180:** A Central de Atendimento \\303\\240 Mulher garante o anonimato da v\\303\\255tima e n\\303\\243o repassa informa\\303\\247\\303\\265es para o agressor. As atendentes s\\303\\243o treinadas para oferecer apoio e orienta\\303\\247\\303\\243o de forma sigilosa e acolhedora.\\n* **Delegacias da Mulher:** As delegacias especializadas contam com profissionais preparados para atender v\\303\\255timas de viol\\303\\252ncia dom\\303\\251stica com sensibilidade e respeito. A identidade da v\\303\\255tima \\303\\251 protegida durante todo o processo.\\n* **Aplicativo SOS Mulher:** O aplicativo foi desenvolvido pelo governo federal e possui mecanismos de seguran\\303\\247a para proteger os dados da v\\303\\255tima. As den\\303\\272ncias s\\303\\243o encaminhadas diretamente para as autoridades competentes.\\n\\n**\\303\\211 importante lembrar que:**\\n\\n* **A seguran\\303\\247a total depende tamb\\303\\251m da postura da v\\303\\255tima.** \\303\\211 fundamental tomar precau\\303\\247\\303\\265es para proteger sua privacidade, como evitar usar o celular do agressor para fazer a den\\303\\272ncia, apagar o hist\\303\\263rico de navega\\303\\247\\303\\243o e liga\\303\\247\\303\\265es, e buscar apoio em locais seguros.\\n* **Em situa\\303\\247\\303\\265es de risco iminente, ligue 190 (Pol\\303\\255cia Militar) imediatamente.**\\n\\nApesar de oferecerem seguran\\303\\247a e sigilo, infelizmente, ainda existem casos de falhas e vazamento de informa\\303\\247\\303\\265es. No entanto, os canais de den\\303\\272ncia s\\303\\243o a forma mais segura e eficaz de combater a viol\\303\\252ncia dom\\303\\251stica e garantir a prote\\303\\247\\303\\243o da v\\303\\255tima. \\n\\nSe voc\\303\\252 est\\303\\241 em d\\303\\272vida ou com medo de denunciar, procure ajuda de uma organiza\\303\\247\\303\\243o de apoio \\303\\240 mulher ou converse com algu\\303\\251m de sua confian\\303\\247a. Voc\\303\\252 n\\303\\243o est\\303\\241 sozinha! \\n\"\n",
              " }\n",
              " role: \"model\",\n",
              " parts {\n",
              "   text: \"Quais s\\303\\243o as informa\\303\\247\\303\\265es necess\\303\\241rias para fazer uma den\\303\\272ncia?\"\n",
              " }\n",
              " role: \"user\",\n",
              " parts {\n",
              "   text: \"Para fazer uma den\\303\\272ncia de viol\\303\\252ncia dom\\303\\251stica, \\303\\251 importante fornecer o m\\303\\241ximo de informa\\303\\247\\303\\265es poss\\303\\255vel para que as autoridades possam agir de forma r\\303\\241pida e eficaz. \\n\\n**Informa\\303\\247\\303\\265es essenciais:**\\n\\n* **Nome completo da v\\303\\255tima:**\\n* **Endere\\303\\247o completo da v\\303\\255tima:**\\n* **Rela\\303\\247\\303\\243o da v\\303\\255tima com o agressor:** (marido, namorado, ex-companheiro, familiar, etc.)\\n* **Nome completo do agressor:**\\n* **Descri\\303\\247\\303\\243o f\\303\\255sica do agressor:** (idade aproximada, altura, cor da pele, caracter\\303\\255sticas marcantes)\\n* **Endere\\303\\247o do agressor (se souber):**\\n* **Descri\\303\\247\\303\\243o detalhada do ocorrido:** (tipo de viol\\303\\252ncia sofrida - f\\303\\255sica, psicol\\303\\263gica, sexual, patrimonial, moral -, data, hora e local da ocorr\\303\\252ncia)\\n* **Testemunhas (se houver):** (nome completo e contato)\\n* **Provas (se houver):** (fotos, v\\303\\255deos, \\303\\241udios, mensagens, boletins de ocorr\\303\\252ncia anteriores)\\n\\n**Informa\\303\\247\\303\\265es adicionais que podem ser \\303\\272teis:**\\n\\n* **Se a v\\303\\255tima possui medida protetiva:**\\n* **Se o agressor possui antecedentes criminais:**\\n* **Se o agressor est\\303\\241 sob efeito de \\303\\241lcool ou drogas:**\\n* **Se h\\303\\241 crian\\303\\247as ou outras pessoas em situa\\303\\247\\303\\243o de risco:**\\n\\n**Lembre-se:**\\n\\n* **Voc\\303\\252 pode denunciar mesmo sem saber todas as informa\\303\\247\\303\\265es.** As autoridades podem ajudar a coletar mais dados durante a investiga\\303\\247\\303\\243o.\\n* **A den\\303\\272ncia pode ser feita de forma an\\303\\264nima.** No entanto, fornecer seus dados pode ajudar na investiga\\303\\247\\303\\243o e garantir que voc\\303\\252 receba suporte e acompanhamento.\\n* **\\303\\211 importante registrar um boletim de ocorr\\303\\252ncia na delegacia.** Esse documento \\303\\251 fundamental para dar andamento ao processo legal e garantir a prote\\303\\247\\303\\243o da v\\303\\255tima.\\n\\n**Canais de den\\303\\272ncia:**\\n\\n* **Ligue 180 (Central de Atendimento \\303\\240 Mulher):** servi\\303\\247o gratuito e confidencial, dispon\\303\\255vel 24 horas por dia.\\n* **Delegacias da Mulher:** procure a delegacia mais pr\\303\\263xima de voc\\303\\252.\\n* **Aplicativo SOS Mulher:** dispon\\303\\255vel para Android e iOS, permite realizar den\\303\\272ncias, pedir ajuda e encontrar a delegacia mais pr\\303\\263xima.\\n\\nDenunciar a viol\\303\\252ncia dom\\303\\251stica \\303\\251 fundamental para proteger a v\\303\\255tima e garantir que o agressor seja responsabilizado por seus atos. N\\303\\243o se cale, busque ajuda! \\n\"\n",
              " }\n",
              " role: \"model\",\n",
              " parts {\n",
              "   text: \"Quais s\\303\\243o os canais de den\\303\\272ncia para viol\\303\\252ncia domestica? Eles s\\303\\243o seguros? Quais informa\\303\\247\\303\\265es s\\303\\243o necess\\303\\241rias para formalizar uma den\\303\\272ncia?\"\n",
              " }\n",
              " role: \"user\",\n",
              " parts {\n",
              "   text: \"\\303\\211 muito importante saber como denunciar a viol\\303\\252ncia dom\\303\\251stica e garantir a seguran\\303\\247a das v\\303\\255timas. Aqui est\\303\\243o as informa\\303\\247\\303\\265es sobre os canais de den\\303\\272ncia, sua seguran\\303\\247a e os dados necess\\303\\241rios para formalizar a den\\303\\272ncia:\\n\\n**Canais de Den\\303\\272ncia no Brasil:**\\n\\n* **Ligue 180 (Central de Atendimento \\303\\240 Mulher):**  Este \\303\\251 um servi\\303\\247o gratuito e confidencial, dispon\\303\\255vel 24 horas por dia, todos os dias da semana. Voc\\303\\252 pode ligar de qualquer lugar do Brasil para:\\n    * Denunciar casos de viol\\303\\252ncia dom\\303\\251stica.\\n    * Receber orienta\\303\\247\\303\\243o sobre seus direitos e como proceder em casos de viol\\303\\252ncia.\\n    * Obter informa\\303\\247\\303\\265es sobre servi\\303\\247os de apoio \\303\\240 mulher dispon\\303\\255veis em sua regi\\303\\243o.\\n    * Receber apoio emocional e psicol\\303\\263gico.\\n* **Delegacias da Mulher:** Procure a delegacia especializada mais pr\\303\\263xima de voc\\303\\252. Essas delegacias contam com profissionais preparados para atender v\\303\\255timas de viol\\303\\252ncia dom\\303\\251stica com sensibilidade e respeito.\\n* **Pol\\303\\255cia Militar (190):** Em casos de emerg\\303\\252ncia, quando a v\\303\\255tima est\\303\\241 em perigo imediato, ligue 190 para solicitar ajuda policial urgente.\\n* **Aplicativo SOS Mulher:** Dispon\\303\\255vel para Android e iOS, o aplicativo permite:\\n    * Realizar den\\303\\272ncias.\\n    * Pedir ajuda.\\n    * Encontrar a delegacia mais pr\\303\\263xima.\\n\\n**Seguran\\303\\247a dos Canais de Den\\303\\272ncia:**\\n\\nSim, os canais de den\\303\\272ncia mencionados s\\303\\243o considerados seguros e confi\\303\\241veis no Brasil. \\n\\n* **Ligue 180:**  Garante o anonimato da v\\303\\255tima e n\\303\\243o repassa informa\\303\\247\\303\\265es para o agressor. As atendentes s\\303\\243o treinadas para oferecer apoio e orienta\\303\\247\\303\\243o de forma sigilosa e acolhedora.\\n* **Delegacias da Mulher:** A identidade da v\\303\\255tima \\303\\251 protegida durante todo o processo.\\n* **Aplicativo SOS Mulher:** Desenvolvido pelo governo federal, possui mecanismos de seguran\\303\\247a para proteger os dados da v\\303\\255tima. As den\\303\\272ncias s\\303\\243o encaminhadas diretamente para as autoridades competentes.\\n\\n**\\303\\211 importante lembrar que:**\\n\\n* A seguran\\303\\247a total depende tamb\\303\\251m da postura da v\\303\\255tima. \\303\\211 fundamental tomar precau\\303\\247\\303\\265es para proteger sua privacidade, como evitar usar o celular do agressor para fazer a den\\303\\272ncia, apagar o hist\\303\\263rico de navega\\303\\247\\303\\243o e liga\\303\\247\\303\\265es, e buscar apoio em locais seguros.\\n\\n**Informa\\303\\247\\303\\265es Necess\\303\\241rias para Formalizar a Den\\303\\272ncia:**\\n\\nQuanto mais informa\\303\\247\\303\\265es voc\\303\\252 puder fornecer, melhor. As informa\\303\\247\\303\\265es essenciais incluem:\\n\\n* **Dados da v\\303\\255tima:** Nome completo, endere\\303\\247o completo, data de nascimento.\\n* **Dados do agressor:** Nome completo, endere\\303\\247o (se souber), descri\\303\\247\\303\\243o f\\303\\255sica (idade aproximada, altura, cor da pele, caracter\\303\\255sticas marcantes), rela\\303\\247\\303\\243o com a v\\303\\255tima.\\n* **Descri\\303\\247\\303\\243o da viol\\303\\252ncia:** Tipo de viol\\303\\252ncia sofrida (f\\303\\255sica, psicol\\303\\263gica, sexual, patrimonial, moral), data, hora e local da ocorr\\303\\252ncia, frequ\\303\\252ncia dos epis\\303\\263dios de viol\\303\\252ncia.\\n* **Testemunhas:** Nome completo e contato, se houver.\\n* **Provas:** Fotos, v\\303\\255deos, \\303\\241udios, mensagens, boletins de ocorr\\303\\252ncia anteriores, se houver.\\n\\n**Informa\\303\\247\\303\\265es adicionais que podem ser \\303\\272teis:**\\n\\n* Se a v\\303\\255tima possui medida protetiva.\\n* Se o agressor possui antecedentes criminais.\\n* Se o agressor est\\303\\241 sob efeito de \\303\\241lcool ou drogas.\\n* Se h\\303\\241 crian\\303\\247as ou outras pessoas em situa\\303\\247\\303\\243o de risco.\\n\\n**Lembre-se:**\\n\\n* Voc\\303\\252 pode denunciar mesmo sem saber todas as informa\\303\\247\\303\\265es. As autoridades podem ajudar a coletar mais dados durante a investiga\\303\\247\\303\\243o.\\n* A den\\303\\272ncia pode ser feita de forma an\\303\\264nima. No entanto, fornecer seus dados pode ajudar na investiga\\303\\247\\303\\243o e garantir que voc\\303\\252 receba suporte e acompanhamento.\\n* \\303\\211 importante registrar um boletim de ocorr\\303\\252ncia na delegacia. Esse documento \\303\\251 fundamental para dar andamento ao processo legal e garantir a prote\\303\\247\\303\\243o da v\\303\\255tima.\\n\\nDenunciar a viol\\303\\252ncia dom\\303\\251stica \\303\\251 fundamental para proteger a v\\303\\255tima e garantir que o agressor seja responsabilizado por seus atos. N\\303\\243o se cale, busque ajuda! \\n\"\n",
              " }\n",
              " role: \"model\"]"
            ]
          },
          "metadata": {},
          "execution_count": 26
        }
      ]
    },
    {
      "cell_type": "markdown",
      "source": [
        "**Melhorar visualização do histórico**"
      ],
      "metadata": {
        "id": "ovEE6gp5rReP"
      }
    },
    {
      "cell_type": "code",
      "source": [
        "import textwrap\n",
        "from IPython.display import display\n",
        "from IPython.display import Markdown\n",
        "\n",
        "def to_markdown(text):\n",
        "  text = text.replace('•', '  *')\n",
        "  return Markdown(textwrap.indent(text, '> ', predicate=lambda _: True))\n",
        "\n",
        "#Imprimindo o histórico\n",
        "for message in chat.history:\n",
        "  display(to_markdown(f'**{message.role}**: {message.parts[0].text}'))\n",
        "  print('-------------------------------------------')"
      ],
      "metadata": {
        "colab": {
          "base_uri": "https://localhost:8080/",
          "height": 1000
        },
        "id": "Hg1kYxArqtQj",
        "outputId": "1d4a77cc-d64c-4819-b031-e20b66024f3b"
      },
      "execution_count": 27,
      "outputs": [
        {
          "output_type": "display_data",
          "data": {
            "text/plain": [
              "<IPython.core.display.Markdown object>"
            ],
            "text/markdown": "> **user**: Como podemos ajudar pessoas vítimas de violência doméstica?"
          },
          "metadata": {}
        },
        {
          "output_type": "stream",
          "name": "stdout",
          "text": [
            "-------------------------------------------\n"
          ]
        },
        {
          "output_type": "display_data",
          "data": {
            "text/plain": [
              "<IPython.core.display.Markdown object>"
            ],
            "text/markdown": "> **model**: A violência doméstica é um problema grave e complexo que exige uma abordagem multifacetada. Aqui estão algumas maneiras de ajudar as vítimas:\n> \n> **Oferecendo Suporte:**\n> \n> * **Acredite nelas:** A primeira e mais importante coisa é acreditar na vítima. Muitas vezes, as vítimas têm medo de falar por vergonha, medo de represálias ou por não serem acreditadas.\n> * **Ouça sem julgar:** Dê espaço para a vítima se expressar sem interrupções ou julgamentos. Deixe-a saber que você está ali para ouvi-la e apoiá-la.\n> * **Ofereça ajuda prática:** Ajude com tarefas do dia a dia, como cuidar de crianças, cozinhar ou limpar a casa. Isso pode aliviar o estresse da vítima e dar-lhe tempo para se concentrar em sua segurança e bem-estar.\n> * **Ajude a criar um plano de segurança:** Isso pode incluir identificar rotas de fuga, ter uma mala pronta com documentos importantes e números de telefone de emergência, e ter um lugar seguro para onde ir em caso de necessidade.\n> * **Incentive a procurar ajuda profissional:** Existem diversas organizações e profissionais que podem oferecer apoio especializado, como psicólogos, assistentes sociais, advogados e grupos de apoio.\n> \n> **Tomando Ação:**\n> \n> * **Denuncie a violência:** Se você suspeitar ou souber de um caso de violência doméstica, denuncie às autoridades competentes. Isso pode ser feito anonimamente, se necessário.\n> * **Apoie organizações que combatem a violência doméstica:** Existem diversas ONGs que trabalham para prevenir a violência, oferecer apoio às vítimas e promover a mudança social. Você pode ajudar doando, sendo voluntário ou divulgando o trabalho dessas organizações.\n> * **Eduque-se sobre o tema:** Aprenda sobre os diferentes tipos de violência doméstica, os sinais de alerta e como ajudar as vítimas. Compartilhe essa informação com outras pessoas para aumentar a conscientização sobre o problema.\n> * **Combata a cultura do silêncio:** A violência doméstica prospera no silêncio. Fale abertamente sobre o assunto, desafie as normas sociais que perpetuam a violência e incentive as vítimas a buscarem ajuda.\n> \n> **Lembre-se:**\n> \n> * **A segurança da vítima é a prioridade.** Nunca a coloque em risco ao tentar intervir diretamente na situação.\n> * **A violência doméstica é um crime.** Não hesite em denunciar e buscar ajuda profissional.\n> * **Você não está sozinho.** Existem recursos e pessoas dispostas a ajudar.\n> \n> **Recursos:**\n> \n> * **Brasil:** Ligue 180 (Central de Atendimento à Mulher)\n> * **Portugal:** APAV - Associação Portuguesa de Apoio à Vítima (116 006)\n> \n> Juntos, podemos fazer a diferença na vida das vítimas de violência doméstica. \n"
          },
          "metadata": {}
        },
        {
          "output_type": "stream",
          "name": "stdout",
          "text": [
            "-------------------------------------------\n"
          ]
        },
        {
          "output_type": "display_data",
          "data": {
            "text/plain": [
              "<IPython.core.display.Markdown object>"
            ],
            "text/markdown": "> **user**: Qual é o canal de denúncia?"
          },
          "metadata": {}
        },
        {
          "output_type": "stream",
          "name": "stdout",
          "text": [
            "-------------------------------------------\n"
          ]
        },
        {
          "output_type": "display_data",
          "data": {
            "text/plain": [
              "<IPython.core.display.Markdown object>"
            ],
            "text/markdown": "> **model**: Você está perguntando sobre o canal de denúncia para violência doméstica? \n> \n> **No Brasil, o canal de denúncia para violência doméstica é o número 180.** \n> \n> A Central de Atendimento à Mulher – Ligue 180 é um serviço gratuito e confidencial que funciona 24 horas por dia, todos os dias da semana. Você pode ligar de qualquer lugar do país, de forma anônima, para:\n> \n> * **Denunciar casos de violência doméstica;**\n> * **Receber orientação sobre seus direitos e sobre como proceder em casos de violência;**\n> * **Obter informações sobre os serviços de apoio à mulher disponíveis em sua região;**\n> * **Receber apoio emocional e psicológico.**\n> \n> **Outros canais de denúncia:**\n> \n> * **Polícia Militar:** 190 (em caso de emergência)\n> * **Delegacias da Mulher:** procure a delegacia mais próxima de você.\n> * **Aplicativo SOS Mulher:** disponível para Android e iOS, permite realizar denúncias, pedir ajuda e encontrar a delegacia mais próxima.\n> \n> **Lembre-se:** a violência doméstica é um crime e deve ser denunciada. Não se cale, busque ajuda! \n"
          },
          "metadata": {}
        },
        {
          "output_type": "stream",
          "name": "stdout",
          "text": [
            "-------------------------------------------\n"
          ]
        },
        {
          "output_type": "display_data",
          "data": {
            "text/plain": [
              "<IPython.core.display.Markdown object>"
            ],
            "text/markdown": "> **user**: Esses canais de denúncia são seguros?"
          },
          "metadata": {}
        },
        {
          "output_type": "stream",
          "name": "stdout",
          "text": [
            "-------------------------------------------\n"
          ]
        },
        {
          "output_type": "display_data",
          "data": {
            "text/plain": [
              "<IPython.core.display.Markdown object>"
            ],
            "text/markdown": "> **model**: Sim, os canais de denúncia que mencionei são considerados seguros e confiáveis no Brasil. \n> \n> **Segurança e Confidencialidade:**\n> \n> * **Ligue 180:** A Central de Atendimento à Mulher garante o anonimato da vítima e não repassa informações para o agressor. As atendentes são treinadas para oferecer apoio e orientação de forma sigilosa e acolhedora.\n> * **Delegacias da Mulher:** As delegacias especializadas contam com profissionais preparados para atender vítimas de violência doméstica com sensibilidade e respeito. A identidade da vítima é protegida durante todo o processo.\n> * **Aplicativo SOS Mulher:** O aplicativo foi desenvolvido pelo governo federal e possui mecanismos de segurança para proteger os dados da vítima. As denúncias são encaminhadas diretamente para as autoridades competentes.\n> \n> **É importante lembrar que:**\n> \n> * **A segurança total depende também da postura da vítima.** É fundamental tomar precauções para proteger sua privacidade, como evitar usar o celular do agressor para fazer a denúncia, apagar o histórico de navegação e ligações, e buscar apoio em locais seguros.\n> * **Em situações de risco iminente, ligue 190 (Polícia Militar) imediatamente.**\n> \n> Apesar de oferecerem segurança e sigilo, infelizmente, ainda existem casos de falhas e vazamento de informações. No entanto, os canais de denúncia são a forma mais segura e eficaz de combater a violência doméstica e garantir a proteção da vítima. \n> \n> Se você está em dúvida ou com medo de denunciar, procure ajuda de uma organização de apoio à mulher ou converse com alguém de sua confiança. Você não está sozinha! \n"
          },
          "metadata": {}
        },
        {
          "output_type": "stream",
          "name": "stdout",
          "text": [
            "-------------------------------------------\n"
          ]
        },
        {
          "output_type": "display_data",
          "data": {
            "text/plain": [
              "<IPython.core.display.Markdown object>"
            ],
            "text/markdown": "> **user**: Quais são as informações necessárias para fazer uma denúncia?"
          },
          "metadata": {}
        },
        {
          "output_type": "stream",
          "name": "stdout",
          "text": [
            "-------------------------------------------\n"
          ]
        },
        {
          "output_type": "display_data",
          "data": {
            "text/plain": [
              "<IPython.core.display.Markdown object>"
            ],
            "text/markdown": "> **model**: Para fazer uma denúncia de violência doméstica, é importante fornecer o máximo de informações possível para que as autoridades possam agir de forma rápida e eficaz. \n> \n> **Informações essenciais:**\n> \n> * **Nome completo da vítima:**\n> * **Endereço completo da vítima:**\n> * **Relação da vítima com o agressor:** (marido, namorado, ex-companheiro, familiar, etc.)\n> * **Nome completo do agressor:**\n> * **Descrição física do agressor:** (idade aproximada, altura, cor da pele, características marcantes)\n> * **Endereço do agressor (se souber):**\n> * **Descrição detalhada do ocorrido:** (tipo de violência sofrida - física, psicológica, sexual, patrimonial, moral -, data, hora e local da ocorrência)\n> * **Testemunhas (se houver):** (nome completo e contato)\n> * **Provas (se houver):** (fotos, vídeos, áudios, mensagens, boletins de ocorrência anteriores)\n> \n> **Informações adicionais que podem ser úteis:**\n> \n> * **Se a vítima possui medida protetiva:**\n> * **Se o agressor possui antecedentes criminais:**\n> * **Se o agressor está sob efeito de álcool ou drogas:**\n> * **Se há crianças ou outras pessoas em situação de risco:**\n> \n> **Lembre-se:**\n> \n> * **Você pode denunciar mesmo sem saber todas as informações.** As autoridades podem ajudar a coletar mais dados durante a investigação.\n> * **A denúncia pode ser feita de forma anônima.** No entanto, fornecer seus dados pode ajudar na investigação e garantir que você receba suporte e acompanhamento.\n> * **É importante registrar um boletim de ocorrência na delegacia.** Esse documento é fundamental para dar andamento ao processo legal e garantir a proteção da vítima.\n> \n> **Canais de denúncia:**\n> \n> * **Ligue 180 (Central de Atendimento à Mulher):** serviço gratuito e confidencial, disponível 24 horas por dia.\n> * **Delegacias da Mulher:** procure a delegacia mais próxima de você.\n> * **Aplicativo SOS Mulher:** disponível para Android e iOS, permite realizar denúncias, pedir ajuda e encontrar a delegacia mais próxima.\n> \n> Denunciar a violência doméstica é fundamental para proteger a vítima e garantir que o agressor seja responsabilizado por seus atos. Não se cale, busque ajuda! \n"
          },
          "metadata": {}
        },
        {
          "output_type": "stream",
          "name": "stdout",
          "text": [
            "-------------------------------------------\n"
          ]
        },
        {
          "output_type": "display_data",
          "data": {
            "text/plain": [
              "<IPython.core.display.Markdown object>"
            ],
            "text/markdown": "> **user**: Quais são os canais de denúncia para violência domestica? Eles são seguros? Quais informações são necessárias para formalizar uma denúncia?"
          },
          "metadata": {}
        },
        {
          "output_type": "stream",
          "name": "stdout",
          "text": [
            "-------------------------------------------\n"
          ]
        },
        {
          "output_type": "display_data",
          "data": {
            "text/plain": [
              "<IPython.core.display.Markdown object>"
            ],
            "text/markdown": "> **model**: É muito importante saber como denunciar a violência doméstica e garantir a segurança das vítimas. Aqui estão as informações sobre os canais de denúncia, sua segurança e os dados necessários para formalizar a denúncia:\n> \n> **Canais de Denúncia no Brasil:**\n> \n> * **Ligue 180 (Central de Atendimento à Mulher):**  Este é um serviço gratuito e confidencial, disponível 24 horas por dia, todos os dias da semana. Você pode ligar de qualquer lugar do Brasil para:\n>     * Denunciar casos de violência doméstica.\n>     * Receber orientação sobre seus direitos e como proceder em casos de violência.\n>     * Obter informações sobre serviços de apoio à mulher disponíveis em sua região.\n>     * Receber apoio emocional e psicológico.\n> * **Delegacias da Mulher:** Procure a delegacia especializada mais próxima de você. Essas delegacias contam com profissionais preparados para atender vítimas de violência doméstica com sensibilidade e respeito.\n> * **Polícia Militar (190):** Em casos de emergência, quando a vítima está em perigo imediato, ligue 190 para solicitar ajuda policial urgente.\n> * **Aplicativo SOS Mulher:** Disponível para Android e iOS, o aplicativo permite:\n>     * Realizar denúncias.\n>     * Pedir ajuda.\n>     * Encontrar a delegacia mais próxima.\n> \n> **Segurança dos Canais de Denúncia:**\n> \n> Sim, os canais de denúncia mencionados são considerados seguros e confiáveis no Brasil. \n> \n> * **Ligue 180:**  Garante o anonimato da vítima e não repassa informações para o agressor. As atendentes são treinadas para oferecer apoio e orientação de forma sigilosa e acolhedora.\n> * **Delegacias da Mulher:** A identidade da vítima é protegida durante todo o processo.\n> * **Aplicativo SOS Mulher:** Desenvolvido pelo governo federal, possui mecanismos de segurança para proteger os dados da vítima. As denúncias são encaminhadas diretamente para as autoridades competentes.\n> \n> **É importante lembrar que:**\n> \n> * A segurança total depende também da postura da vítima. É fundamental tomar precauções para proteger sua privacidade, como evitar usar o celular do agressor para fazer a denúncia, apagar o histórico de navegação e ligações, e buscar apoio em locais seguros.\n> \n> **Informações Necessárias para Formalizar a Denúncia:**\n> \n> Quanto mais informações você puder fornecer, melhor. As informações essenciais incluem:\n> \n> * **Dados da vítima:** Nome completo, endereço completo, data de nascimento.\n> * **Dados do agressor:** Nome completo, endereço (se souber), descrição física (idade aproximada, altura, cor da pele, características marcantes), relação com a vítima.\n> * **Descrição da violência:** Tipo de violência sofrida (física, psicológica, sexual, patrimonial, moral), data, hora e local da ocorrência, frequência dos episódios de violência.\n> * **Testemunhas:** Nome completo e contato, se houver.\n> * **Provas:** Fotos, vídeos, áudios, mensagens, boletins de ocorrência anteriores, se houver.\n> \n> **Informações adicionais que podem ser úteis:**\n> \n> * Se a vítima possui medida protetiva.\n> * Se o agressor possui antecedentes criminais.\n> * Se o agressor está sob efeito de álcool ou drogas.\n> * Se há crianças ou outras pessoas em situação de risco.\n> \n> **Lembre-se:**\n> \n> * Você pode denunciar mesmo sem saber todas as informações. As autoridades podem ajudar a coletar mais dados durante a investigação.\n> * A denúncia pode ser feita de forma anônima. No entanto, fornecer seus dados pode ajudar na investigação e garantir que você receba suporte e acompanhamento.\n> * É importante registrar um boletim de ocorrência na delegacia. Esse documento é fundamental para dar andamento ao processo legal e garantir a proteção da vítima.\n> \n> Denunciar a violência doméstica é fundamental para proteger a vítima e garantir que o agressor seja responsabilizado por seus atos. Não se cale, busque ajuda! \n"
          },
          "metadata": {}
        },
        {
          "output_type": "stream",
          "name": "stdout",
          "text": [
            "-------------------------------------------\n"
          ]
        }
      ]
    }
  ]
}